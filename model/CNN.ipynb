{
 "cells": [
  {
   "cell_type": "code",
   "execution_count": 2,
   "metadata": {},
   "outputs": [],
   "source": [
    "import numpy as np\n",
    "import pandas as pd\n",
    "import tensorflow as tf\n",
    "from tensorflow.keras.preprocessing.image import load_img, img_to_array"
   ]
  },
  {
   "cell_type": "markdown",
   "metadata": {},
   "source": [
    "# Data Preparation"
   ]
  },
  {
   "cell_type": "code",
   "execution_count": 3,
   "metadata": {},
   "outputs": [],
   "source": [
    "# Create dictionary for category classes\n",
    "output_dict = {0 : 'aloevera',\n",
    "                1 : 'banana',\n",
    "                2 : 'bilimbi',\n",
    "                3 : 'cantaloupe',\n",
    "                4 : 'cassava',\n",
    "                5 : 'coconut',\n",
    "                6 : 'corn',\n",
    "                7 : 'cucumber',\n",
    "                8 : 'curcuma',\n",
    "                9 : 'eggplant',\n",
    "                10 : 'galangal',\n",
    "                11 : 'ginger',\n",
    "                12 : 'guava',\n",
    "                13 : 'kale',\n",
    "                14 : 'longbeans',\n",
    "                15 : 'mango',\n",
    "                16 : 'melon',\n",
    "                17 : 'orange',\n",
    "                18 : 'paddy',\n",
    "                19 : 'papaya',\n",
    "                20 : 'peperchili',\n",
    "                21 : 'pineapple',\n",
    "                22 : 'pomelo',\n",
    "                23 : 'shallot',\n",
    "                24 : 'soybeans',\n",
    "                25 : 'spinach',\n",
    "                26 : 'sweetpotatoes',\n",
    "                27 : 'tobacco',\n",
    "                28 : 'waterapple',\n",
    "                29 : 'watermelon'}"
   ]
  },
  {
   "cell_type": "code",
   "execution_count": 4,
   "metadata": {},
   "outputs": [],
   "source": [
    "def map_values(category_num):\n",
    "    return output_dict.get(category_num)"
   ]
  },
  {
   "cell_type": "code",
   "execution_count": 5,
   "metadata": {},
   "outputs": [],
   "source": [
    "# Load and preprocess images from file paths\n",
    "def load_and_preprocess_image(file_path, target_size=(224, 224)):\n",
    "    image = load_img(file_path, target_size=target_size)\n",
    "    image_array = img_to_array(image)\n",
    "    return image_array"
   ]
  },
  {
   "cell_type": "code",
   "execution_count": 11,
   "metadata": {},
   "outputs": [],
   "source": [
    "def prepare_data(file_path):\n",
    "    # Read the csv file\n",
    "    df = pd.read_csv(file_path)\n",
    "\n",
    "    # Add new column for name of class category\n",
    "    df['label'] = df['category'].apply(map_values)\n",
    "\n",
    "    # Append data/ in front of every image file path\n",
    "    df['image:FILE'] = 'data/' + df['image:FILE']\n",
    "    \n",
    "    # Add new column with loaded image\n",
    "    df['image'] = df['image:FILE'].apply(lambda x: load_and_preprocess_image(x))\n",
    "\n",
    "    # Convert images to numpy arrays\n",
    "    X = np.array(df['image'].tolist())\n",
    "    y = np.array(df['label'])\n",
    "\n",
    "    return X, y\n"
   ]
  },
  {
   "cell_type": "code",
   "execution_count": 12,
   "metadata": {},
   "outputs": [],
   "source": [
    "X_train, y_train = prepare_data('data/test.csv')\n",
    "X_val, y_val = prepare_data('data/val.csv')\n",
    "X_test, y_test = prepare_data('data/test.csv')"
   ]
  },
  {
   "cell_type": "markdown",
   "metadata": {},
   "source": [
    "# Train Model"
   ]
  },
  {
   "cell_type": "code",
   "execution_count": null,
   "metadata": {},
   "outputs": [],
   "source": []
  }
 ],
 "metadata": {
  "kernelspec": {
   "display_name": "base",
   "language": "python",
   "name": "python3"
  },
  "language_info": {
   "codemirror_mode": {
    "name": "ipython",
    "version": 3
   },
   "file_extension": ".py",
   "mimetype": "text/x-python",
   "name": "python",
   "nbconvert_exporter": "python",
   "pygments_lexer": "ipython3",
   "version": "3.11.5"
  }
 },
 "nbformat": 4,
 "nbformat_minor": 2
}
