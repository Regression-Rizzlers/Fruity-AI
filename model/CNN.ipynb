{
 "cells": [
  {
   "cell_type": "code",
   "execution_count": 83,
   "metadata": {},
   "outputs": [],
   "source": [
    "import numpy as np\n",
    "import pandas as pd\n",
    "import tensorflow as tf\n",
    "from tensorflow.keras import layers, models\n",
    "from tensorflow.keras.preprocessing.image import load_img, img_to_array"
   ]
  },
  {
   "cell_type": "markdown",
   "metadata": {},
   "source": [
    "# Data Preparation"
   ]
  },
  {
   "cell_type": "code",
   "execution_count": 84,
   "metadata": {},
   "outputs": [],
   "source": [
    "# Load and preprocess images from file paths\n",
    "def load_image(file_path, target_size=(64, 64)):\n",
    "    image = load_img(file_path, target_size=target_size)\n",
    "    image_array = img_to_array(image) / 255.0\n",
    "    return image_array"
   ]
  },
  {
   "cell_type": "code",
   "execution_count": 85,
   "metadata": {},
   "outputs": [],
   "source": [
    "def prepare_data(file_path):\n",
    "    # Read the csv file\n",
    "    df = pd.read_csv(file_path)\n",
    "\n",
    "    # Trim dataset for faster testing for now\n",
    "    #df = df.sample(n=100, random_state=42)\n",
    "\n",
    "    # Append data/ in front of every image file path\n",
    "    df['image:FILE'] = 'data/' + df['image:FILE']\n",
    "    \n",
    "    # Add new column with loaded image\n",
    "    df['image'] = df['image:FILE'].apply(lambda x: load_image(x))\n",
    "\n",
    "    X = np.stack(df['image'].to_numpy())\n",
    "    y = df['category'].to_numpy()\n",
    "\n",
    "    return X, y\n"
   ]
  },
  {
   "cell_type": "code",
   "execution_count": 86,
   "metadata": {},
   "outputs": [],
   "source": [
    "X_train, y_train = prepare_data('data/test.csv')\n",
    "X_val, y_val = prepare_data('data/val.csv')\n",
    "X_test, y_test = prepare_data('data/test.csv')"
   ]
  },
  {
   "cell_type": "markdown",
   "metadata": {},
   "source": [
    "# Train Model"
   ]
  },
  {
   "cell_type": "code",
   "execution_count": 87,
   "metadata": {},
   "outputs": [],
   "source": [
    "def CNN_train():\n",
    "    # Define the CNN architecture\n",
    "    model = models.Sequential([\n",
    "        layers.Input(shape=(64, 64, 3)),\n",
    "        layers.Conv2D(32, (3, 3), activation='relu'),\n",
    "        layers.MaxPooling2D((2, 2)),\n",
    "        layers.Conv2D(64, (3, 3), activation='relu'),\n",
    "        layers.MaxPooling2D((2, 2)),\n",
    "        layers.Conv2D(64, (3, 3), activation='relu'),\n",
    "        layers.Flatten(),\n",
    "        layers.Dense(64, activation='relu'),\n",
    "        layers.Dense(30)  # 30 unique labels in dataset\n",
    "    ])\n",
    "\n",
    "    # Compile the model\n",
    "    model.compile(optimizer='adam',\n",
    "        loss=tf.keras.losses.SparseCategoricalCrossentropy(from_logits=True),\n",
    "        metrics=['accuracy'])\n",
    "    \n",
    "    # Train the model\n",
    "    model.fit(X_train, y_train, epochs=10, validation_data=(X_val, y_val))\n",
    "\n",
    "    # Evaluate the model\n",
    "    test_loss, test_acc = model.evaluate(X_test, y_test, verbose=2)\n",
    "    print(f'Test accuracy: {test_acc}')\n",
    "    print(f'Test loss: {test_loss}')\n",
    "\n",
    "    # Save the model\n",
    "    #model.save('CNN_model.h5')"
   ]
  },
  {
   "cell_type": "code",
   "execution_count": 88,
   "metadata": {},
   "outputs": [
    {
     "name": "stdout",
     "output_type": "stream",
     "text": [
      "Epoch 1/10\n",
      "\u001b[1m188/188\u001b[0m \u001b[32m━━━━━━━━━━━━━━━━━━━━\u001b[0m\u001b[37m\u001b[0m \u001b[1m21s\u001b[0m 95ms/step - accuracy: 0.0733 - loss: 3.2438 - val_accuracy: 0.1907 - val_loss: 2.7107\n",
      "Epoch 2/10\n",
      "\u001b[1m188/188\u001b[0m \u001b[32m━━━━━━━━━━━━━━━━━━━━\u001b[0m\u001b[37m\u001b[0m \u001b[1m22s\u001b[0m 104ms/step - accuracy: 0.2883 - loss: 2.3674 - val_accuracy: 0.2750 - val_loss: 2.3981\n",
      "Epoch 3/10\n",
      "\u001b[1m188/188\u001b[0m \u001b[32m━━━━━━━━━━━━━━━━━━━━\u001b[0m\u001b[37m\u001b[0m \u001b[1m20s\u001b[0m 105ms/step - accuracy: 0.4047 - loss: 1.9799 - val_accuracy: 0.3410 - val_loss: 2.3149\n",
      "Epoch 4/10\n",
      "\u001b[1m188/188\u001b[0m \u001b[32m━━━━━━━━━━━━━━━━━━━━\u001b[0m\u001b[37m\u001b[0m \u001b[1m20s\u001b[0m 105ms/step - accuracy: 0.4650 - loss: 1.7442 - val_accuracy: 0.3870 - val_loss: 2.1682\n",
      "Epoch 5/10\n",
      "\u001b[1m188/188\u001b[0m \u001b[32m━━━━━━━━━━━━━━━━━━━━\u001b[0m\u001b[37m\u001b[0m \u001b[1m18s\u001b[0m 97ms/step - accuracy: 0.5465 - loss: 1.4720 - val_accuracy: 0.4313 - val_loss: 2.0039\n",
      "Epoch 6/10\n",
      "\u001b[1m188/188\u001b[0m \u001b[32m━━━━━━━━━━━━━━━━━━━━\u001b[0m\u001b[37m\u001b[0m \u001b[1m18s\u001b[0m 98ms/step - accuracy: 0.6131 - loss: 1.2330 - val_accuracy: 0.4403 - val_loss: 2.1059\n",
      "Epoch 7/10\n",
      "\u001b[1m188/188\u001b[0m \u001b[32m━━━━━━━━━━━━━━━━━━━━\u001b[0m\u001b[37m\u001b[0m \u001b[1m19s\u001b[0m 99ms/step - accuracy: 0.6807 - loss: 1.0389 - val_accuracy: 0.4863 - val_loss: 1.9738\n",
      "Epoch 8/10\n",
      "\u001b[1m188/188\u001b[0m \u001b[32m━━━━━━━━━━━━━━━━━━━━\u001b[0m\u001b[37m\u001b[0m \u001b[1m19s\u001b[0m 99ms/step - accuracy: 0.7561 - loss: 0.7830 - val_accuracy: 0.5070 - val_loss: 1.9963\n",
      "Epoch 9/10\n",
      "\u001b[1m188/188\u001b[0m \u001b[32m━━━━━━━━━━━━━━━━━━━━\u001b[0m\u001b[37m\u001b[0m \u001b[1m23s\u001b[0m 121ms/step - accuracy: 0.7969 - loss: 0.6452 - val_accuracy: 0.5070 - val_loss: 2.2682\n",
      "Epoch 10/10\n",
      "\u001b[1m188/188\u001b[0m \u001b[32m━━━━━━━━━━━━━━━━━━━━\u001b[0m\u001b[37m\u001b[0m \u001b[1m20s\u001b[0m 106ms/step - accuracy: 0.8495 - loss: 0.4729 - val_accuracy: 0.5297 - val_loss: 2.1853\n",
      "188/188 - 4s - 21ms/step - accuracy: 0.8640 - loss: 0.4083\n",
      "Test accuracy: 0.8640000224113464\n",
      "Test loss: 0.40832796692848206\n"
     ]
    }
   ],
   "source": [
    "CNN_train()"
   ]
  },
  {
   "cell_type": "code",
   "execution_count": null,
   "metadata": {},
   "outputs": [],
   "source": []
  }
 ],
 "metadata": {
  "kernelspec": {
   "display_name": "base",
   "language": "python",
   "name": "python3"
  },
  "language_info": {
   "codemirror_mode": {
    "name": "ipython",
    "version": 3
   },
   "file_extension": ".py",
   "mimetype": "text/x-python",
   "name": "python",
   "nbconvert_exporter": "python",
   "pygments_lexer": "ipython3",
   "version": "3.11.5"
  }
 },
 "nbformat": 4,
 "nbformat_minor": 2
}
